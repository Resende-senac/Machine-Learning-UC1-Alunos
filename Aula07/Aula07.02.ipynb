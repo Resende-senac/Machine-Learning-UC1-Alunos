{
 "cells": [
  {
   "cell_type": "code",
   "execution_count": 1,
   "id": "ce59957b-1d9c-43a5-aa06-676be3bdad89",
   "metadata": {},
   "outputs": [],
   "source": [
    "from keras.models import Sequential\n",
    "from keras.layers import Embedding, SimpleRNN, Dense\n",
    "from keras.datasets import imdb\n",
    "from keras.preprocessing import sequence"
   ]
  },
  {
   "cell_type": "code",
   "execution_count": 2,
   "id": "4fe2f321-9985-4291-9b53-5ab8092bafb6",
   "metadata": {},
   "outputs": [
    {
     "name": "stdout",
     "output_type": "stream",
     "text": [
      "Downloading data from https://storage.googleapis.com/tensorflow/tf-keras-datasets/imdb.npz\n",
      "\u001b[1m17464789/17464789\u001b[0m \u001b[32m━━━━━━━━━━━━━━━━━━━━\u001b[0m\u001b[37m\u001b[0m \u001b[1m3s\u001b[0m 0us/step\n"
     ]
    }
   ],
   "source": [
    "(X_train, y_train), (X_test, y_test) = imdb.load_data(num_words=10000)"
   ]
  },
  {
   "cell_type": "code",
   "execution_count": 4,
   "id": "5f5cec3b-6555-4941-8cbb-378082d1dbd0",
   "metadata": {},
   "outputs": [],
   "source": [
    "# Limitando o tamanho das reviews para 500 palavras (para padronizar a forma como a rede neural vai fazer a análise)\n",
    "\n",
    "maxlen = 500\n",
    "X_train = sequence.pad_sequences(X_train, maxlen=maxlen)\n",
    "X_test = sequence.pad_sequences(X_test, maxlen=maxlen)"
   ]
  },
  {
   "cell_type": "code",
   "execution_count": 7,
   "id": "bb3ef3ec-1cd1-4242-b05b-c47778cb5926",
   "metadata": {},
   "outputs": [],
   "source": [
    "# Limitando o tamanho das reviews para 500 palavras (para padronizar a forma como a rede neural vai fazer a análise)\n",
    "\n",
    "model = Sequential()\n",
    "model.add(Embedding(input_dim=10000, output_dim=64)) # Codifica as alavras em vetores\n",
    "model.add(SimpleRNN(units=64)) #Camada RNN básica\n",
    "model.add(Dense(units=1, activation='sigmoid')) #Saída: probabilidade de sentimento positivo"
   ]
  },
  {
   "cell_type": "code",
   "execution_count": 8,
   "id": "934bfe03-17bb-4afd-9176-41ea626df20a",
   "metadata": {},
   "outputs": [],
   "source": [
    "# Compilção do modelo\n",
    "model.compile(loss='binary_crossentropy', optimizer='adam', metrics=['accuracy'])"
   ]
  },
  {
   "cell_type": "code",
   "execution_count": 9,
   "id": "8f91643d-9981-489b-a2b9-1e63be839061",
   "metadata": {},
   "outputs": [
    {
     "name": "stdout",
     "output_type": "stream",
     "text": [
      "Epoch 1/5\n",
      "\u001b[1m625/625\u001b[0m \u001b[32m━━━━━━━━━━━━━━━━━━━━\u001b[0m\u001b[37m\u001b[0m \u001b[1m30s\u001b[0m 46ms/step - accuracy: 0.5615 - loss: 0.6747 - val_accuracy: 0.7174 - val_loss: 0.5506\n",
      "Epoch 2/5\n",
      "\u001b[1m625/625\u001b[0m \u001b[32m━━━━━━━━━━━━━━━━━━━━\u001b[0m\u001b[37m\u001b[0m \u001b[1m29s\u001b[0m 46ms/step - accuracy: 0.7801 - loss: 0.4661 - val_accuracy: 0.6892 - val_loss: 0.5858\n",
      "Epoch 3/5\n",
      "\u001b[1m625/625\u001b[0m \u001b[32m━━━━━━━━━━━━━━━━━━━━\u001b[0m\u001b[37m\u001b[0m \u001b[1m29s\u001b[0m 46ms/step - accuracy: 0.8641 - loss: 0.3255 - val_accuracy: 0.8156 - val_loss: 0.4708\n",
      "Epoch 4/5\n",
      "\u001b[1m625/625\u001b[0m \u001b[32m━━━━━━━━━━━━━━━━━━━━\u001b[0m\u001b[37m\u001b[0m \u001b[1m29s\u001b[0m 46ms/step - accuracy: 0.9138 - loss: 0.2185 - val_accuracy: 0.5872 - val_loss: 0.6686\n",
      "Epoch 5/5\n",
      "\u001b[1m625/625\u001b[0m \u001b[32m━━━━━━━━━━━━━━━━━━━━\u001b[0m\u001b[37m\u001b[0m \u001b[1m29s\u001b[0m 46ms/step - accuracy: 0.7849 - loss: 0.4614 - val_accuracy: 0.7200 - val_loss: 0.6592\n"
     ]
    },
    {
     "data": {
      "text/plain": [
       "<keras.src.callbacks.history.History at 0x193d7755d50>"
      ]
     },
     "execution_count": 9,
     "metadata": {},
     "output_type": "execute_result"
    }
   ],
   "source": [
    "# Treinamento do modelo\n",
    "model.fit(X_train, y_train, epochs=5, batch_size=32, validation_split=0.2)"
   ]
  },
  {
   "cell_type": "code",
   "execution_count": 11,
   "id": "23e69f90-cc51-4914-9645-80aee457171d",
   "metadata": {},
   "outputs": [
    {
     "name": "stdout",
     "output_type": "stream",
     "text": [
      "\u001b[1m782/782\u001b[0m \u001b[32m━━━━━━━━━━━━━━━━━━━━\u001b[0m\u001b[37m\u001b[0m \u001b[1m11s\u001b[0m 15ms/step - accuracy: 0.7255 - loss: 0.6454\n",
      "Acurácia no conjunto de teste: 72.59%\n"
     ]
    }
   ],
   "source": [
    "# Avaliar no conjunto teste \n",
    "loss, accuracy = model.evaluate(X_test, y_test)\n",
    "print(f'Acurácia no conjunto de teste: {accuracy * 100:.2f}%')"
   ]
  }
 ],
 "metadata": {
  "kernelspec": {
   "display_name": "Python ML (venv)",
   "language": "python",
   "name": "machine_learning"
  },
  "language_info": {
   "codemirror_mode": {
    "name": "ipython",
    "version": 3
   },
   "file_extension": ".py",
   "mimetype": "text/x-python",
   "name": "python",
   "nbconvert_exporter": "python",
   "pygments_lexer": "ipython3",
   "version": "3.10.5"
  }
 },
 "nbformat": 4,
 "nbformat_minor": 5
}
