{
 "cells": [
  {
   "cell_type": "code",
   "execution_count": 1,
   "id": "94f6c5cb-d99c-48a5-a0aa-9a8d158822cd",
   "metadata": {},
   "outputs": [],
   "source": [
    "# pip install pandas prophet plotly statsmodels"
   ]
  },
  {
   "cell_type": "code",
   "execution_count": 2,
   "id": "b8e7e02e-7a76-480d-8c0d-f062be413d13",
   "metadata": {},
   "outputs": [
    {
     "name": "stderr",
     "output_type": "stream",
     "text": [
      "c:\\_mlUc1\\mlEnv\\lib\\site-packages\\tqdm\\auto.py:21: TqdmWarning: IProgress not found. Please update jupyter and ipywidgets. See https://ipywidgets.readthedocs.io/en/stable/user_install.html\n",
      "  from .autonotebook import tqdm as notebook_tqdm\n"
     ]
    }
   ],
   "source": [
    "import pandas as pd\n",
    "from prophet import Prophet"
   ]
  },
  {
   "cell_type": "code",
   "execution_count": 3,
   "id": "8d7a24e7-a19e-4789-9b42-69b7330dac74",
   "metadata": {},
   "outputs": [
    {
     "name": "stdout",
     "output_type": "stream",
     "text": [
      "\n",
      "\n",
      " Dados: \n",
      "\n",
      "\t{'ds': DatetimeIndex(['2023-01-01', '2023-01-02', '2023-01-03', '2023-01-04',\n",
      "               '2023-01-05', '2023-01-06', '2023-01-07', '2023-01-08',\n",
      "               '2023-01-09', '2023-01-10'],\n",
      "              dtype='datetime64[ns]', freq='D'), 'y': [10, 12, 9, 14, 13, 15, 20, 22, 18, 25]} \n",
      "\n",
      "\n",
      "\n",
      "Dataset \n",
      "\n",
      "\n",
      "<class 'pandas.core.frame.DataFrame'>\n",
      "RangeIndex: 10 entries, 0 to 9\n",
      "Data columns (total 2 columns):\n",
      " #   Column  Non-Null Count  Dtype         \n",
      "---  ------  --------------  -----         \n",
      " 0   ds      10 non-null     datetime64[ns]\n",
      " 1   y       10 non-null     int64         \n",
      "dtypes: datetime64[ns](1), int64(1)\n",
      "memory usage: 288.0 bytes\n"
     ]
    }
   ],
   "source": [
    "# Dados de exemplo\n",
    "data = {\n",
    "    'ds': pd.date_range(start='2023-01-01', periods=10, freq='D'),  # 10 dias consecutivos\n",
    "    'y': [10, 12, 9, 14, 13, 15, 20, 22, 18, 25]  # valores fictícios\n",
    "}\n",
    "\n",
    "print(f\"\\n\\n Dados: \\n\\n\\t{data} \\n\\n\")\n",
    "\n",
    "df = pd.DataFrame(data)\n",
    "\n",
    "\n",
    "print(f\"\\nDataset \\n\\n\")\n",
    "df.info()"
   ]
  },
  {
   "cell_type": "code",
   "execution_count": 4,
   "id": "8721e8d6-0f80-473b-8ff2-3d30e54015c8",
   "metadata": {},
   "outputs": [],
   "source": [
    "# Criar uma instância do modelo\n",
    "model = Prophet()"
   ]
  },
  {
   "cell_type": "code",
   "execution_count": 5,
   "id": "ac8c4656-7202-477b-a3d4-9a1cff7439b1",
   "metadata": {},
   "outputs": [
    {
     "name": "stderr",
     "output_type": "stream",
     "text": [
      "19:03:10 - cmdstanpy - INFO - Chain [1] start processing\n",
      "19:03:10 - cmdstanpy - INFO - Chain [1] done processing\n"
     ]
    },
    {
     "data": {
      "text/plain": [
       "<prophet.forecaster.Prophet at 0x241e9d43880>"
      ]
     },
     "execution_count": 5,
     "metadata": {},
     "output_type": "execute_result"
    }
   ],
   "source": [
    "model.fit(df)"
   ]
  },
  {
   "cell_type": "code",
   "execution_count": 6,
   "id": "d1cb3f45-53c7-4d1c-a5ca-65d79d895b2e",
   "metadata": {},
   "outputs": [
    {
     "name": "stdout",
     "output_type": "stream",
     "text": [
      "<class 'pandas.core.frame.DataFrame'>\n",
      "RangeIndex: 15 entries, 0 to 14\n",
      "Data columns (total 1 columns):\n",
      " #   Column  Non-Null Count  Dtype         \n",
      "---  ------  --------------  -----         \n",
      " 0   ds      15 non-null     datetime64[ns]\n",
      "dtypes: datetime64[ns](1)\n",
      "memory usage: 248.0 bytes\n"
     ]
    },
    {
     "data": {
      "text/html": [
       "<div>\n",
       "<style scoped>\n",
       "    .dataframe tbody tr th:only-of-type {\n",
       "        vertical-align: middle;\n",
       "    }\n",
       "\n",
       "    .dataframe tbody tr th {\n",
       "        vertical-align: top;\n",
       "    }\n",
       "\n",
       "    .dataframe thead th {\n",
       "        text-align: right;\n",
       "    }\n",
       "</style>\n",
       "<table border=\"1\" class=\"dataframe\">\n",
       "  <thead>\n",
       "    <tr style=\"text-align: right;\">\n",
       "      <th></th>\n",
       "      <th>ds</th>\n",
       "    </tr>\n",
       "  </thead>\n",
       "  <tbody>\n",
       "    <tr>\n",
       "      <th>10</th>\n",
       "      <td>2023-01-11</td>\n",
       "    </tr>\n",
       "    <tr>\n",
       "      <th>11</th>\n",
       "      <td>2023-01-12</td>\n",
       "    </tr>\n",
       "    <tr>\n",
       "      <th>12</th>\n",
       "      <td>2023-01-13</td>\n",
       "    </tr>\n",
       "    <tr>\n",
       "      <th>13</th>\n",
       "      <td>2023-01-14</td>\n",
       "    </tr>\n",
       "    <tr>\n",
       "      <th>14</th>\n",
       "      <td>2023-01-15</td>\n",
       "    </tr>\n",
       "  </tbody>\n",
       "</table>\n",
       "</div>"
      ],
      "text/plain": [
       "           ds\n",
       "10 2023-01-11\n",
       "11 2023-01-12\n",
       "12 2023-01-13\n",
       "13 2023-01-14\n",
       "14 2023-01-15"
      ]
     },
     "execution_count": 6,
     "metadata": {},
     "output_type": "execute_result"
    }
   ],
   "source": [
    "# Criar datas futuras (5 dias a mais)\n",
    "future = model.make_future_dataframe(periods=5)\n",
    "\n",
    "future.info()\n",
    "\n",
    "future.tail(5)"
   ]
  },
  {
   "cell_type": "code",
   "execution_count": 7,
   "id": "57009f0c-fddd-49aa-9412-6609b481761c",
   "metadata": {},
   "outputs": [
    {
     "name": "stdout",
     "output_type": "stream",
     "text": [
      "<class 'pandas.core.frame.DataFrame'>\n",
      "RangeIndex: 15 entries, 0 to 14\n",
      "Data columns (total 13 columns):\n",
      " #   Column                      Non-Null Count  Dtype         \n",
      "---  ------                      --------------  -----         \n",
      " 0   ds                          15 non-null     datetime64[ns]\n",
      " 1   trend                       15 non-null     float64       \n",
      " 2   yhat_lower                  15 non-null     float64       \n",
      " 3   yhat_upper                  15 non-null     float64       \n",
      " 4   trend_lower                 15 non-null     float64       \n",
      " 5   trend_upper                 15 non-null     float64       \n",
      " 6   additive_terms              15 non-null     float64       \n",
      " 7   additive_terms_lower        15 non-null     float64       \n",
      " 8   additive_terms_upper        15 non-null     float64       \n",
      " 9   multiplicative_terms        15 non-null     float64       \n",
      " 10  multiplicative_terms_lower  15 non-null     float64       \n",
      " 11  multiplicative_terms_upper  15 non-null     float64       \n",
      " 12  yhat                        15 non-null     float64       \n",
      "dtypes: datetime64[ns](1), float64(12)\n",
      "memory usage: 1.6 KB\n"
     ]
    },
    {
     "data": {
      "text/html": [
       "<div>\n",
       "<style scoped>\n",
       "    .dataframe tbody tr th:only-of-type {\n",
       "        vertical-align: middle;\n",
       "    }\n",
       "\n",
       "    .dataframe tbody tr th {\n",
       "        vertical-align: top;\n",
       "    }\n",
       "\n",
       "    .dataframe thead th {\n",
       "        text-align: right;\n",
       "    }\n",
       "</style>\n",
       "<table border=\"1\" class=\"dataframe\">\n",
       "  <thead>\n",
       "    <tr style=\"text-align: right;\">\n",
       "      <th></th>\n",
       "      <th>ds</th>\n",
       "      <th>trend</th>\n",
       "      <th>yhat_lower</th>\n",
       "      <th>yhat_upper</th>\n",
       "      <th>trend_lower</th>\n",
       "      <th>trend_upper</th>\n",
       "      <th>additive_terms</th>\n",
       "      <th>additive_terms_lower</th>\n",
       "      <th>additive_terms_upper</th>\n",
       "      <th>multiplicative_terms</th>\n",
       "      <th>multiplicative_terms_lower</th>\n",
       "      <th>multiplicative_terms_upper</th>\n",
       "      <th>yhat</th>\n",
       "    </tr>\n",
       "  </thead>\n",
       "  <tbody>\n",
       "    <tr>\n",
       "      <th>0</th>\n",
       "      <td>2023-01-01</td>\n",
       "      <td>8.655275</td>\n",
       "      <td>6.143373</td>\n",
       "      <td>11.226449</td>\n",
       "      <td>8.655275</td>\n",
       "      <td>8.655275</td>\n",
       "      <td>0.0</td>\n",
       "      <td>0.0</td>\n",
       "      <td>0.0</td>\n",
       "      <td>0.0</td>\n",
       "      <td>0.0</td>\n",
       "      <td>0.0</td>\n",
       "      <td>8.655275</td>\n",
       "    </tr>\n",
       "    <tr>\n",
       "      <th>1</th>\n",
       "      <td>2023-01-02</td>\n",
       "      <td>10.242839</td>\n",
       "      <td>7.737653</td>\n",
       "      <td>12.852612</td>\n",
       "      <td>10.242839</td>\n",
       "      <td>10.242839</td>\n",
       "      <td>0.0</td>\n",
       "      <td>0.0</td>\n",
       "      <td>0.0</td>\n",
       "      <td>0.0</td>\n",
       "      <td>0.0</td>\n",
       "      <td>0.0</td>\n",
       "      <td>10.242839</td>\n",
       "    </tr>\n",
       "    <tr>\n",
       "      <th>2</th>\n",
       "      <td>2023-01-03</td>\n",
       "      <td>11.830403</td>\n",
       "      <td>9.477716</td>\n",
       "      <td>14.581376</td>\n",
       "      <td>11.830403</td>\n",
       "      <td>11.830403</td>\n",
       "      <td>0.0</td>\n",
       "      <td>0.0</td>\n",
       "      <td>0.0</td>\n",
       "      <td>0.0</td>\n",
       "      <td>0.0</td>\n",
       "      <td>0.0</td>\n",
       "      <td>11.830403</td>\n",
       "    </tr>\n",
       "    <tr>\n",
       "      <th>3</th>\n",
       "      <td>2023-01-04</td>\n",
       "      <td>13.417967</td>\n",
       "      <td>10.639857</td>\n",
       "      <td>16.008032</td>\n",
       "      <td>13.417967</td>\n",
       "      <td>13.417967</td>\n",
       "      <td>0.0</td>\n",
       "      <td>0.0</td>\n",
       "      <td>0.0</td>\n",
       "      <td>0.0</td>\n",
       "      <td>0.0</td>\n",
       "      <td>0.0</td>\n",
       "      <td>13.417967</td>\n",
       "    </tr>\n",
       "    <tr>\n",
       "      <th>4</th>\n",
       "      <td>2023-01-05</td>\n",
       "      <td>15.005531</td>\n",
       "      <td>12.233994</td>\n",
       "      <td>17.630017</td>\n",
       "      <td>15.005531</td>\n",
       "      <td>15.005531</td>\n",
       "      <td>0.0</td>\n",
       "      <td>0.0</td>\n",
       "      <td>0.0</td>\n",
       "      <td>0.0</td>\n",
       "      <td>0.0</td>\n",
       "      <td>0.0</td>\n",
       "      <td>15.005531</td>\n",
       "    </tr>\n",
       "  </tbody>\n",
       "</table>\n",
       "</div>"
      ],
      "text/plain": [
       "          ds      trend  yhat_lower  yhat_upper  trend_lower  trend_upper  \\\n",
       "0 2023-01-01   8.655275    6.143373   11.226449     8.655275     8.655275   \n",
       "1 2023-01-02  10.242839    7.737653   12.852612    10.242839    10.242839   \n",
       "2 2023-01-03  11.830403    9.477716   14.581376    11.830403    11.830403   \n",
       "3 2023-01-04  13.417967   10.639857   16.008032    13.417967    13.417967   \n",
       "4 2023-01-05  15.005531   12.233994   17.630017    15.005531    15.005531   \n",
       "\n",
       "   additive_terms  additive_terms_lower  additive_terms_upper  \\\n",
       "0             0.0                   0.0                   0.0   \n",
       "1             0.0                   0.0                   0.0   \n",
       "2             0.0                   0.0                   0.0   \n",
       "3             0.0                   0.0                   0.0   \n",
       "4             0.0                   0.0                   0.0   \n",
       "\n",
       "   multiplicative_terms  multiplicative_terms_lower  \\\n",
       "0                   0.0                         0.0   \n",
       "1                   0.0                         0.0   \n",
       "2                   0.0                         0.0   \n",
       "3                   0.0                         0.0   \n",
       "4                   0.0                         0.0   \n",
       "\n",
       "   multiplicative_terms_upper       yhat  \n",
       "0                         0.0   8.655275  \n",
       "1                         0.0  10.242839  \n",
       "2                         0.0  11.830403  \n",
       "3                         0.0  13.417967  \n",
       "4                         0.0  15.005531  "
      ]
     },
     "execution_count": 7,
     "metadata": {},
     "output_type": "execute_result"
    }
   ],
   "source": [
    "# Gerar previsões\n",
    "forecast = model.predict(future)\n",
    "\n",
    "forecast.info ()\n",
    "\n",
    "forecast.head ()"
   ]
  },
  {
   "cell_type": "code",
   "execution_count": 8,
   "id": "108a3b74-f120-4639-b2e1-2054858e0305",
   "metadata": {},
   "outputs": [
    {
     "name": "stdout",
     "output_type": "stream",
     "text": [
      "=== Previsao ===\n",
      "           ds       yhat  yhat_lower  yhat_upper\n",
      "0  2023-01-01   8.655275    6.143373   11.226449\n",
      "1  2023-01-02  10.242839    7.737653   12.852612\n",
      "2  2023-01-03  11.830403    9.477716   14.581376\n",
      "3  2023-01-04  13.417967   10.639857   16.008032\n",
      "4  2023-01-05  15.005531   12.233994   17.630017\n",
      "5  2023-01-06  16.593094   13.918862   19.267654\n",
      "6  2023-01-07  18.180658   15.241044   20.706314\n",
      "7  2023-01-08  19.768222   17.055738   22.388233\n",
      "8  2023-01-09  21.355786   18.614289   23.819970\n",
      "9  2023-01-10  22.943350   20.093966   25.691880\n",
      "10 2023-01-11  24.530914   21.734698   27.376428\n",
      "11 2023-01-12  26.118478   23.558655   28.873935\n",
      "12 2023-01-13  27.706042   25.081516   30.205849\n",
      "13 2023-01-14  29.293606   26.866759   32.026712\n",
      "14 2023-01-15  30.881169   28.028095   33.755861\n"
     ]
    }
   ],
   "source": [
    "print(\"=== Previsao ===\")\n",
    "print(forecast[['ds', 'yhat', 'yhat_lower', 'yhat_upper']])"
   ]
  },
  {
   "cell_type": "code",
   "execution_count": 9,
   "id": "95b5d4a6-2b9b-4599-9d71-e6dcf83c235b",
   "metadata": {},
   "outputs": [
    {
     "data": {
      "image/png": "[encoded data removed]",
      "text/plain": [
       "<Figure size 1000x600 with 1 Axes>"
      ]
     },
     "metadata": {},
     "output_type": "display_data"
    }
   ],
   "source": [
    "from prophet.plot import plot\n",
    "import matplotlib.pyplot as plt  # Required for displaying the plot\n",
    "\n",
    "# Generate the plot\n",
    "fig = plot(model, forecast)\n",
    "plt.title(\"Time Series Forecast\")\n",
    "plt.xlabel(\"Data\")\n",
    "plt.ylabel(\"Valor\")\n",
    "plt.show()\n"
   ]
  }
 ],
 "metadata": {
  "kernelspec": {
   "display_name": "Python ML (venv)",
   "language": "python",
   "name": "machine_learning"
  },
  "language_info": {
   "codemirror_mode": {
    "name": "ipython",
    "version": 3
   },
   "file_extension": ".py",
   "mimetype": "text/x-python",
   "name": "python",
   "nbconvert_exporter": "python",
   "pygments_lexer": "ipython3",
   "version": "3.10.5"
  }
 },
 "nbformat": 4,
 "nbformat_minor": 5
}
