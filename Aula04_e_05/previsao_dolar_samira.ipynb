{
 "cells": [
  {
   "cell_type": "code",
   "execution_count": null,
   "id": "b59cb45b-5275-4864-a177-51c08b50310a",
   "metadata": {},
   "outputs": [],
   "source": [
    "# Importar as bibliotecas \n",
    "import pandas as pd\n",
    "import numpy as np\n",
    "from statsmodels.tsa.seasonal import seasonal_decompose\n",
    "from statsmodels.tsa.statespace.sarimax import SARIMAX\n",
    "import matplotlib.pyplot as plt\n",
    "import warnings"
   ]
  },
  {
   "cell_type": "code",
   "execution_count": null,
   "id": "0c40a256-84e5-4022-90e1-df741976d22a",
   "metadata": {},
   "outputs": [],
   "source": [
    "[5.6931, 5.6688, 5.6326, 5.5963, 5.5941, 5.5754, 5.5551, 5.5384, 5.5382, 5.5646, \n",
    " 5.5117, 5.4767, 5.4873, 5.4951, 5.5207, 5.4932, 5.5421, 5.5139, 5.4753, 5.4565]"
   ]
  }
 ],
 "metadata": {
  "kernelspec": {
   "display_name": "Python ML (venv)",
   "language": "python",
   "name": "machine_learning"
  },
  "language_info": {
   "codemirror_mode": {
    "name": "ipython",
    "version": 3
   },
   "file_extension": ".py",
   "mimetype": "text/x-python",
   "name": "python",
   "nbconvert_exporter": "python",
   "pygments_lexer": "ipython3",
   "version": "3.10.5"
  }
 },
 "nbformat": 4,
 "nbformat_minor": 5
}
