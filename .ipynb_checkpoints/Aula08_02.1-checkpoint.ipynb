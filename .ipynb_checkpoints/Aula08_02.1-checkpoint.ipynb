{
 "cells": [
  {
   "cell_type": "code",
   "execution_count": 2,
   "id": "6b1304a8-b552-4e94-9ac4-c08f626b3f59",
   "metadata": {},
   "outputs": [],
   "source": [
    "# Importações necessárias\n",
    "import torch\n",
    "import torch.nn as nn\n",
    "import torch.optim as optim\n",
    "import numpy as np\n",
    "import matplotlib.pyplot as plt"
   ]
  },
  {
   "cell_type": "code",
   "execution_count": 4,
   "id": "1a504a08-bfd5-4a2d-91d4-ec541d6857e8",
   "metadata": {},
   "outputs": [
    {
     "name": "stdout",
     "output_type": "stream",
     "text": [
      "Dados de entrada (X):\n",
      "[[1]\n",
      " [2]\n",
      " [3]\n",
      " [4]\n",
      " [5]]\n",
      "\n",
      "Dados de saída (y):\n",
      "[2.49671415 3.8617357  6.64768854 9.52302986 9.76584663]\n"
     ]
    }
   ],
   "source": [
    "# Passo 1: Dados simulados com mais amotras e leve ruído\n",
    "np.random.seed(42) # para reprodutibilidade\n",
    "X = np.arange(1,11).reshape(-1,1) #X de 1 a 10\n",
    "y = 2 * X.flatten() + np.random.normal(0,1, size=X.shape[0]) # y = 2x + ruído\n",
    "\n",
    "print(\"Dados de entrada (X):\")\n",
    "print(X[0:5])\n",
    "print(\"\\nDados de saída (y):\")\n",
    "print(y[0:5])"
   ]
  },
  {
   "cell_type": "code",
   "execution_count": 5,
   "id": "95e9db46-ae23-4384-b859-f400ccb980ef",
   "metadata": {},
   "outputs": [],
   "source": [
    "# Passo 2: Convertendo dados para tensores do PyTorch\n",
    "X_tensor = torch.tensor(X, dtype=torch.float32)\n",
    "y_tensor = torch.tensor(y, dtype=torch.float32).view(-1,1) # Garantir formto 2D"
   ]
  },
  {
   "cell_type": "code",
   "execution_count": 6,
   "id": "bb2148ae-42d9-43eb-aee3-8d8ab7558db3",
   "metadata": {},
   "outputs": [],
   "source": [
    "# Passo 3: Dividindo os dados em treino e teste\n",
    "# Como estamos no PyTorch, vamos fazer manualmente\n",
    "train_size = int(0.8 * len(X_tensor))\n",
    "X_train, X_test = X_tensor[:train_size], X_tensor[train_size:]\n",
    "y_train, y_test = y_tensor[:train_size], y_tensor[train_size:]"
   ]
  },
  {
   "cell_type": "code",
   "execution_count": 8,
   "id": "21c2f33b-8a3c-4ac2-ae24-fadf39feeabb",
   "metadata": {},
   "outputs": [
    {
     "name": "stdout",
     "output_type": "stream",
     "text": [
      "\n",
      "X_treino: [1. 2. 3. 4. 5. 6. 7. 8.]\n",
      "y_treino: [ 2.496714   3.8617356  6.6476884  9.52303    9.765846  11.765863\n",
      " 15.579213  16.767435 ]\n",
      "X_teste: [ 9. 10.]\n",
      "Y_teste [17.530525 20.54256 ]\n"
     ]
    }
   ],
   "source": [
    "print(\"\\nX_treino:\", X_train.numpy().flatten())\n",
    "print(\"y_treino:\", y_train.numpy().flatten())\n",
    "print(\"X_teste:\", X_test.numpy().flatten())\n",
    "print(\"Y_teste\", y_test.numpy().flatten())"
   ]
  },
  {
   "cell_type": "code",
   "execution_count": 11,
   "id": "7022f32a-8d73-4e50-9392-5adc186624b3",
   "metadata": {},
   "outputs": [],
   "source": [
    "# Passo 4: Definindo o modelo de regressão linear\n",
    "class LinearRegression(nn.Module):\n",
    "    def __init__(self):\n",
    "        super(LinearRegression, self).__init__()\n",
    "        self.linear = nn.Linear(1, 1)  # Camada linear: y = a*x + b\n",
    "\n",
    "    def forward(self, x):\n",
    "        return self.linear(x)\n",
    "\n",
    "model = LinearRegression()"
   ]
  },
  {
   "cell_type": "code",
   "execution_count": 13,
   "id": "12e3a69e-418c-4ed9-8d29-f4b6b6f47558",
   "metadata": {},
   "outputs": [],
   "source": [
    "# Passo 5: Definindo função de perda e otimizador\n",
    "criterion = nn.MSELoss()\n",
    "optimizer = optim.SGD(model.parameters(), lr=0.01)"
   ]
  },
  {
   "cell_type": "code",
   "execution_count": 21,
   "id": "85363f42-9ddb-4cf2-ab2a-6bbba17a0f7c",
   "metadata": {},
   "outputs": [
    {
     "name": "stdout",
     "output_type": "stream",
     "text": [
      "Época [10/1000], Perda: 0.4436\n",
      "Época [20/1000], Perda: 0.4436\n",
      "Época [30/1000], Perda: 0.4436\n",
      "Época [40/1000], Perda: 0.4436\n",
      "Época [50/1000], Perda: 0.4436\n",
      "Época [60/1000], Perda: 0.4436\n",
      "Época [70/1000], Perda: 0.4436\n",
      "Época [80/1000], Perda: 0.4436\n",
      "Época [90/1000], Perda: 0.4436\n",
      "Época [100/1000], Perda: 0.4436\n",
      "Época [110/1000], Perda: 0.4436\n",
      "Época [120/1000], Perda: 0.4436\n",
      "Época [130/1000], Perda: 0.4436\n",
      "Época [140/1000], Perda: 0.4436\n",
      "Época [150/1000], Perda: 0.4436\n",
      "Época [160/1000], Perda: 0.4436\n",
      "Época [170/1000], Perda: 0.4436\n",
      "Época [180/1000], Perda: 0.4436\n",
      "Época [190/1000], Perda: 0.4436\n",
      "Época [200/1000], Perda: 0.4436\n",
      "Época [210/1000], Perda: 0.4436\n",
      "Época [220/1000], Perda: 0.4436\n",
      "Época [230/1000], Perda: 0.4436\n",
      "Época [240/1000], Perda: 0.4436\n",
      "Época [250/1000], Perda: 0.4436\n",
      "Época [260/1000], Perda: 0.4436\n",
      "Época [270/1000], Perda: 0.4436\n",
      "Época [280/1000], Perda: 0.4436\n",
      "Época [290/1000], Perda: 0.4436\n",
      "Época [300/1000], Perda: 0.4436\n",
      "Época [310/1000], Perda: 0.4436\n",
      "Época [320/1000], Perda: 0.4436\n",
      "Época [330/1000], Perda: 0.4436\n",
      "Época [340/1000], Perda: 0.4436\n",
      "Época [350/1000], Perda: 0.4436\n",
      "Época [360/1000], Perda: 0.4436\n",
      "Época [370/1000], Perda: 0.4436\n",
      "Época [380/1000], Perda: 0.4436\n",
      "Época [390/1000], Perda: 0.4436\n",
      "Época [400/1000], Perda: 0.4436\n",
      "Época [410/1000], Perda: 0.4436\n",
      "Época [420/1000], Perda: 0.4436\n",
      "Época [430/1000], Perda: 0.4436\n",
      "Época [440/1000], Perda: 0.4436\n",
      "Época [450/1000], Perda: 0.4436\n",
      "Época [460/1000], Perda: 0.4436\n",
      "Época [470/1000], Perda: 0.4436\n",
      "Época [480/1000], Perda: 0.4436\n",
      "Época [490/1000], Perda: 0.4436\n",
      "Época [500/1000], Perda: 0.4436\n",
      "Época [510/1000], Perda: 0.4436\n",
      "Época [520/1000], Perda: 0.4436\n",
      "Época [530/1000], Perda: 0.4436\n",
      "Época [540/1000], Perda: 0.4436\n",
      "Época [550/1000], Perda: 0.4436\n",
      "Época [560/1000], Perda: 0.4436\n",
      "Época [570/1000], Perda: 0.4436\n",
      "Época [580/1000], Perda: 0.4436\n",
      "Época [590/1000], Perda: 0.4436\n",
      "Época [600/1000], Perda: 0.4436\n",
      "Época [610/1000], Perda: 0.4436\n",
      "Época [620/1000], Perda: 0.4436\n",
      "Época [630/1000], Perda: 0.4436\n",
      "Época [640/1000], Perda: 0.4436\n",
      "Época [650/1000], Perda: 0.4436\n",
      "Época [660/1000], Perda: 0.4436\n",
      "Época [670/1000], Perda: 0.4436\n",
      "Época [680/1000], Perda: 0.4436\n",
      "Época [690/1000], Perda: 0.4436\n",
      "Época [700/1000], Perda: 0.4436\n",
      "Época [710/1000], Perda: 0.4436\n",
      "Época [720/1000], Perda: 0.4436\n",
      "Época [730/1000], Perda: 0.4436\n",
      "Época [740/1000], Perda: 0.4436\n",
      "Época [750/1000], Perda: 0.4436\n",
      "Época [760/1000], Perda: 0.4436\n",
      "Época [770/1000], Perda: 0.4436\n",
      "Época [780/1000], Perda: 0.4436\n",
      "Época [790/1000], Perda: 0.4436\n",
      "Época [800/1000], Perda: 0.4436\n",
      "Época [810/1000], Perda: 0.4436\n",
      "Época [820/1000], Perda: 0.4436\n",
      "Época [830/1000], Perda: 0.4436\n",
      "Época [840/1000], Perda: 0.4436\n",
      "Época [850/1000], Perda: 0.4436\n",
      "Época [860/1000], Perda: 0.4436\n",
      "Época [870/1000], Perda: 0.4436\n",
      "Época [880/1000], Perda: 0.4436\n",
      "Época [890/1000], Perda: 0.4436\n",
      "Época [900/1000], Perda: 0.4436\n",
      "Época [910/1000], Perda: 0.4436\n",
      "Época [920/1000], Perda: 0.4436\n",
      "Época [930/1000], Perda: 0.4436\n",
      "Época [940/1000], Perda: 0.4436\n",
      "Época [950/1000], Perda: 0.4436\n",
      "Época [960/1000], Perda: 0.4436\n",
      "Época [970/1000], Perda: 0.4436\n",
      "Época [980/1000], Perda: 0.4436\n",
      "Época [990/1000], Perda: 0.4436\n",
      "Época [1000/1000], Perda: 0.4436\n"
     ]
    }
   ],
   "source": [
    "# Passo 6: Treinamento do modelo\n",
    "epochs = 1000\n",
    "for epoch in range(epochs):\n",
    "    # Forward pass\n",
    "    outputs = model(X_train)\n",
    "    loss = criterion(outputs, y_train)\n",
    "\n",
    "    # Backward pass e otimização\n",
    "    optimizer.zero_grad()\n",
    "    loss.backward()\n",
    "    optimizer.step()\n",
    "\n",
    "    if (epoch + 1) % 10 == 0:\n",
    "        print(f'Época [{epoch+1}/{epochs}], Perda: {loss.item():.4f}')"
   ]
  },
  {
   "cell_type": "code",
   "execution_count": 22,
   "id": "a8beac7f-15ae-4dd6-9950-1e8cd089f053",
   "metadata": {},
   "outputs": [],
   "source": [
    "# Passo 7: Fazendo previsões \n",
    "model.eval() # Desliga o modo de treino\n",
    "with torch.no_grad():\n",
    "    y_pred = model(X_test)"
   ]
  },
  {
   "cell_type": "code",
   "execution_count": 23,
   "id": "9d545a2f-b98c-4e77-b486-74b965d5899c",
   "metadata": {},
   "outputs": [
    {
     "name": "stdout",
     "output_type": "stream",
     "text": [
      "\n",
      "Valores reais:  [17.530525 20.54256 ]\n",
      "Valores previstos:  [18.87665 20.94903]\n"
     ]
    }
   ],
   "source": [
    "# Comparando valores reais com previstos \n",
    "print(\"\\nValores reais: \", y_test.numpy().flatten())\n",
    "print(\"Valores previstos: \", y_pred.numpy().flatten())"
   ]
  },
  {
   "cell_type": "code",
   "execution_count": 25,
   "id": "0efeb539-113d-424d-a565-fffecc94b1ee",
   "metadata": {},
   "outputs": [
    {
     "name": "stdout",
     "output_type": "stream",
     "text": [
      "\n",
      "Erro Médio Quadrático (MSE): 0.9886\n"
     ]
    }
   ],
   "source": [
    "# Avaliação final - Erro médio Quadrático\n",
    "mse = criterion(y_pred, y_test).item()\n",
    "print(\"\\nErro Médio Quadrático (MSE):\", round(mse,4))"
   ]
  },
  {
   "cell_type": "code",
   "execution_count": 26,
   "id": "179517d6-28ca-4b75-83f7-17377b9c0b42",
   "metadata": {},
   "outputs": [
    {
     "data": {
      "image/png": "[encoded data removed]",
      "text/plain": [
       "<Figure size 1200x500 with 2 Axes>"
      ]
     },
     "metadata": {},
     "output_type": "display_data"
    }
   ],
   "source": [
    "# Passo 8: Visualizando os resultados\n",
    "plt.figure(figsize=(12, 5))\n",
    "\n",
    "# Gráfico 1: Dados de treino e linha da regressão\n",
    "plt.subplot(1, 2, 1)\n",
    "plt.scatter(X_train.detach().numpy(), y_train.detach().numpy(), color='blue', label='Dados de Treino')\n",
    "plt.plot(X_train.detach().numpy(), model(X_train).detach().numpy(), color='red', label='Modelo Treinado')\n",
    "plt.title('Modelo Treinado vs Dados de Treino')\n",
    "plt.xlabel('X')\n",
    "plt.ylabel('y')\n",
    "plt.legend()\n",
    "\n",
    "# Gráfico 2: Comparando previsões com valores reais no conjunto de teste\n",
    "plt.subplot(1, 2, 2)\n",
    "plt.scatter(X_test.detach().numpy(), y_test.detach().numpy(), color='green', label='Real')\n",
    "plt.scatter(X_test.detach().numpy(), y_pred.detach().numpy(), color='orange', marker='x', s=100, label='Previsto')\n",
    "plt.plot(X_test.detach().numpy(), y_pred.detach().numpy(), color='orange', linestyle='--')\n",
    "plt.title('Previsões vs Valores Reais (Teste)')\n",
    "plt.xlabel('X')\n",
    "plt.ylabel('y')\n",
    "plt.legend()\n",
    "\n",
    "plt.tight_layout()\n",
    "plt.show()"
   ]
  }
 ],
 "metadata": {
  "kernelspec": {
   "display_name": "Python ML (venv)",
   "language": "python",
   "name": "machine_learning"
  },
  "language_info": {
   "codemirror_mode": {
    "name": "ipython",
    "version": 3
   },
   "file_extension": ".py",
   "mimetype": "text/x-python",
   "name": "python",
   "nbconvert_exporter": "python",
   "pygments_lexer": "ipython3",
   "version": "3.10.5"
  }
 },
 "nbformat": 4,
 "nbformat_minor": 5
}
